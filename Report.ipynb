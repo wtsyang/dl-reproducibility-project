{
  "nbformat": 4,
  "nbformat_minor": 0,
  "metadata": {
    "colab": {
      "name": "Report",
      "provenance": [],
      "authorship_tag": "ABX9TyNyxZiMtq/oHasii56U2f9k",
      "include_colab_link": true
    },
    "kernelspec": {
      "name": "python3",
      "display_name": "Python 3"
    }
  },
  "cells": [
    {
      "cell_type": "markdown",
      "metadata": {
        "id": "view-in-github",
        "colab_type": "text"
      },
      "source": [
        "<a href=\"https://colab.research.google.com/github/wtsyang/dl-reproducibility-project/blob/master/Report.ipynb\" target=\"_parent\"><img src=\"https://colab.research.google.com/assets/colab-badge.svg\" alt=\"Open In Colab\"/></a>"
      ]
    },
    {
      "cell_type": "markdown",
      "metadata": {
        "id": "zJKQLTZVTrE_",
        "colab_type": "text"
      },
      "source": [
        "# Striving for Simplicity: The All Convolutional Net\n",
        "###### *Wei-Tse Yang, Sunwei Wang, and Qingyuan Cao*\n",
        "###### 14/4/2020\n",
        "In this notebook, we try to reproduce the TABLE 3 in [original paper](https://arxiv.org/abs/1412.6806). The source code of one of the models on ```Pytorch``` and the training procedure on Google Colab can be found in [github](https://github.com/StefOe/all-conv-pytorch). **We adopt the original training procedure and change it to the Python class. Also, we build the models from scratch on Pytorch.**\n",
        "\n",
        "---\n",
        "\n",
        "# Brief Introduction\n",
        "The paper shows that replacing the max-pooling with the convolutional with increased strides can improve the performance. The authors prove it by training models with max-pooling, models removing max-pooling, and models replacing max-pooling with convolutional layers. The results show the models replacing max-pooling with convolutional layers with strides generally have better performance. \n",
        "\n",
        "## *Model, Strided-CNN, ConvPool-CNN, and ALL-CNN?*\n",
        "Each model base has one original model and thee branches. **“Model”** is the model with max-pooling. **“Strided-CNN”** is the model removing max-pooling. **“All-CNN”** is the model replacing max-pooling with convolutional strides. The better performance of “All-CNN” might result from more parameters than “Model” and “Strided-CNN”. To solve it, “ConvPool-CNN” is proposed. **“ConvPool-CNN”** is the model with max-pooling and one more convolutional layer before the pooling. “ConvPool-CNN” should have the same number of parameters as “All-CNN”. Therefore, if “All-CNN” has a better performance than “ConvPool-CNN”, we can prove the better performance on “All-CNN” does not result from more parameters. \n",
        "\n",
        "\n",
        "## *Model A, Model B, and Model C?*\n",
        "Since the design of convolutional layers would influence the performance, the authors test three model bases. The model A uses the 5x5 strides. The model B uses the 5x5 strides but also adds one convolutional layer with 1x1 strides after that. The model C uses two convolutional layers with 3x3 strides. \n",
        "\n",
        "---\n",
        "# Experiment Setup \n",
        "Three model bases and three branches in each base are designed, so there are 12 models in total. These models are trained on the CIFAR-10 with the stochastic gradient descent with a fixed momentum of 0.9 and 350 epochs. The learning rate γ is chosen from the set ∈ [0.25, 0.1, 0.05, 0.01]. It is also scheduled by multiplying with a fixed factor of 0.1 in the epoch S= [200, 250, 300]. The paper only presents the best performance among all learning rates. Based on the source code, the performance is directly evaluated on the CIFAR-10 test set. **No cross-validation is conducted to evaluate the hyperparameters!**  \n",
        "\n",
        "---\n",
        "\n",
        "# Results\n",
        "\n",
        "\n",
        "| Model      |  Error Rate of Paper  | Error Rate of Ours| \n",
        "|-|-|-|\n",
        "|   Model A   | 12.47%|19.27%|\n",
        "|   Strided-CNN-A  |13.46% |20.27%|\n",
        "|   **ConvPool-CNN-A**  |**10.21%**|**15.46%**|\n",
        "|   ALL-CNN-A  |10.30% |15.60%|\n",
        "| | ||\n",
        "|   Model B | 10.20%|?|\n",
        "|   Strided-CNN-B  | 10.98%|?|\n",
        "|   ConvPool-CNN-B  | 9.33%|?|\n",
        "|   ALL-CNN-B   | ***9.10%***|?|\n",
        "| | ||\n",
        "|   Model C  | 9.74%|?|\n",
        "|   Strided-CNN-C  | 10.19%|?|\n",
        "|   ConvPool-CNN-C  | 9.31%|?|\n",
        "|   ALL-CNN-C  | ***9.08%***|?|\n",
        "\n"
      ]
    },
    {
      "cell_type": "code",
      "metadata": {
        "id": "hsojPAB1q75j",
        "colab_type": "code",
        "colab": {}
      },
      "source": [
        "# Copy the trianing chunk to here?"
      ],
      "execution_count": 0,
      "outputs": []
    },
    {
      "cell_type": "markdown",
      "metadata": {
        "id": "eVksKoMlaxi6",
        "colab_type": "text"
      },
      "source": [
        "# Cross-Valudation "
      ]
    },
    {
      "cell_type": "code",
      "metadata": {
        "id": "7zAdzu2mq8l9",
        "colab_type": "code",
        "colab": {}
      },
      "source": [
        "# Copy the trianing chunk to here?"
      ],
      "execution_count": 0,
      "outputs": []
    },
    {
      "cell_type": "markdown",
      "metadata": {
        "id": "hztDzk-5qvm7",
        "colab_type": "text"
      },
      "source": [
        "# DropOut and Batch Normalization\n",
        "Add motivation and description. "
      ]
    },
    {
      "cell_type": "code",
      "metadata": {
        "id": "Qh2N6fpLq9Er",
        "colab_type": "code",
        "colab": {}
      },
      "source": [
        "# Copy the trianing chunk to here?"
      ],
      "execution_count": 0,
      "outputs": []
    },
    {
      "cell_type": "markdown",
      "metadata": {
        "id": "RmXwCYC2qhCF",
        "colab_type": "text"
      },
      "source": [
        "# Optimizer\n",
        "Add motivation and description. "
      ]
    },
    {
      "cell_type": "code",
      "metadata": {
        "id": "L24H7bgEq9kD",
        "colab_type": "code",
        "colab": {}
      },
      "source": [
        "# Copy the trianing chunk to here?"
      ],
      "execution_count": 0,
      "outputs": []
    },
    {
      "cell_type": "markdown",
      "metadata": {
        "id": "ntCVAT6ztRKy",
        "colab_type": "text"
      },
      "source": [
        "# Softmax?"
      ]
    },
    {
      "cell_type": "code",
      "metadata": {
        "id": "stUYH0SmtQbM",
        "colab_type": "code",
        "colab": {}
      },
      "source": [
        "# Copy the trianing chunk to here?"
      ],
      "execution_count": 0,
      "outputs": []
    },
    {
      "cell_type": "markdown",
      "metadata": {
        "id": "982dZGSNat4a",
        "colab_type": "text"
      },
      "source": [
        "# Appendix\n",
        "\n",
        "\n",
        "*   [Github Repository](https://github.com/wtsyang/dl-reproducibility-project)\n",
        "*   [A Python Class to build all Models](https://github.com/wtsyang/dl-reproducibility-project/blob/master/Model.py)\n",
        "*   [A Python Class for Training Procedure](https://github.com/wtsyang/dl-reproducibility-project/blob/master/Training.py)\n",
        "*   [The Notebook for Model A]()\n",
        "\n",
        "\n",
        "\n",
        "\n",
        "\n",
        "\n",
        "\n"
      ]
    },
    {
      "cell_type": "code",
      "metadata": {
        "id": "PGo4QEy0Tvbs",
        "colab_type": "code",
        "colab": {}
      },
      "source": [
        ""
      ],
      "execution_count": 0,
      "outputs": []
    }
  ]
}